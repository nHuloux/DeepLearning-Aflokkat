{
  "nbformat": 4,
  "nbformat_minor": 0,
  "metadata": {
    "colab": {
      "provenance": [],
      "authorship_tag": "ABX9TyPWYqw4hL1bdCikFp2jB3M2",
      "include_colab_link": true
    },
    "kernelspec": {
      "name": "python3",
      "display_name": "Python 3"
    },
    "language_info": {
      "name": "python"
    }
  },
  "cells": [
    {
      "cell_type": "markdown",
      "metadata": {
        "id": "view-in-github",
        "colab_type": "text"
      },
      "source": [
        "<a href=\"https://colab.research.google.com/github/nHuloux/DeepLearning-Aflokkat/blob/main/DeepLearning.ipynb\" target=\"_parent\"><img src=\"https://colab.research.google.com/assets/colab-badge.svg\" alt=\"Open In Colab\"/></a>"
      ]
    },
    {
      "cell_type": "markdown",
      "source": [
        "# Deep Learning\n",
        "Nous allons réaliser une application web qui permet de reconnaitre des chiffres écrits à la main dans un canvas.\n",
        "\n",
        "Pendant cette activité guidée vous allez être amené à importer le dataset MNIST, le pré-traiter, l'utiliser pour entraîner un réseau de neurone et enfin d'insérer ce réseau dans l'application en Django."
      ],
      "metadata": {
        "id": "6q41lQy3tc3-"
      }
    },
    {
      "cell_type": "markdown",
      "source": [
        "# Nouvelle section"
      ],
      "metadata": {
        "id": "-DGTbUMQx3_Q"
      }
    },
    {
      "cell_type": "markdown",
      "source": [
        "Importer les librairies nécéssaires pour traiter des données, pour construire et évaluer des réseaux de neurones"
      ],
      "metadata": {
        "id": "-Ih6AJL-uIHr"
      }
    },
    {
      "cell_type": "code",
      "execution_count": null,
      "metadata": {
        "id": "vt5d4yTMsOy8"
      },
      "outputs": [],
      "source": []
    },
    {
      "cell_type": "markdown",
      "source": [
        "Importer les données du MNIST à partir de l'API openML et le mettre dans une variable qu'on appellera digits.\n",
        "\n",
        "```\n",
        "digits = fetch_openml('mnist_784')\n",
        "```"
      ],
      "metadata": {
        "id": "BNMu5SAau3Gi"
      }
    },
    {
      "cell_type": "code",
      "source": [],
      "metadata": {
        "id": "UEa1i6zKRlRj"
      },
      "execution_count": null,
      "outputs": []
    },
    {
      "cell_type": "markdown",
      "source": [
        "Qu'y a-t-il dans :\n",
        "\n",
        "\n",
        "```\n",
        "digits.target\n",
        "digits.data\n",
        "```\n",
        "\n"
      ],
      "metadata": {
        "id": "dalAwcm7-adT"
      }
    },
    {
      "cell_type": "markdown",
      "source": [
        "**Réponse :**"
      ],
      "metadata": {
        "id": "SpWJZoDR-46h"
      }
    },
    {
      "cell_type": "code",
      "source": [],
      "metadata": {
        "id": "GnJhXBWUSla-"
      },
      "execution_count": null,
      "outputs": []
    },
    {
      "cell_type": "code",
      "source": [],
      "metadata": {
        "id": "jqRrDLUkUtgO"
      },
      "execution_count": null,
      "outputs": []
    },
    {
      "cell_type": "markdown",
      "source": [
        "Combien de pixels contient une image ? Quel est le format de l'image originale ? Quel traitement a été réalisé sur ces images pour avoir `digits.data` ?\n"
      ],
      "metadata": {
        "id": "c01sJPO5UglV"
      }
    },
    {
      "cell_type": "markdown",
      "source": [
        "***Réponses :***"
      ],
      "metadata": {
        "id": "rxqv1L21VehV"
      }
    },
    {
      "cell_type": "markdown",
      "source": [
        "Recréer une image de 28x28. On pourra utiliser les fonctions `iloc`, et `reshape` de pandas"
      ],
      "metadata": {
        "id": "eZ6wz3AzViBi"
      }
    },
    {
      "cell_type": "code",
      "source": [],
      "metadata": {
        "id": "rzsXy-T6VKe4"
      },
      "execution_count": null,
      "outputs": []
    },
    {
      "cell_type": "markdown",
      "source": [
        "Afficher une image avec la librairie matplotlib, à quel label est-elle associée ?\n",
        "\n"
      ],
      "metadata": {
        "id": "m1KSYUSMv311"
      }
    },
    {
      "cell_type": "code",
      "source": [],
      "metadata": {
        "id": "JmRmoW13v1K5"
      },
      "execution_count": null,
      "outputs": []
    },
    {
      "cell_type": "markdown",
      "source": [
        "Est-ce qu'on va utiliser les images (28x28) ou leur version stocké dans le digits.data (786) ?\n",
        "\n"
      ],
      "metadata": {
        "id": "VVY--j20V1zw"
      }
    },
    {
      "cell_type": "markdown",
      "source": [
        "***Réponse :***"
      ],
      "metadata": {
        "id": "sA-hajh3WGO1"
      }
    },
    {
      "cell_type": "markdown",
      "source": [
        "Construire le dataset en créant le vecteur d'entrée X, et le vecteur des sorties y en se basant sur notre dataset importé. Pour une meilleure utilisation du dataset, il est de bon ton de normaliser ces vecteurs."
      ],
      "metadata": {
        "id": "2GmrgmPR9-Cm"
      }
    },
    {
      "cell_type": "code",
      "source": [],
      "metadata": {
        "id": "hQBrtneu98PI"
      },
      "execution_count": null,
      "outputs": []
    },
    {
      "cell_type": "markdown",
      "source": [
        "Séparer ce dataset en set d'entrainement et set de test, en prenant 20% des valeurs pour le test."
      ],
      "metadata": {
        "id": "ojeogtox_CGk"
      }
    },
    {
      "cell_type": "code",
      "source": [],
      "metadata": {
        "id": "5Vrqss6R-Xub"
      },
      "execution_count": null,
      "outputs": []
    },
    {
      "cell_type": "markdown",
      "source": [
        "# Construction du modèle\n",
        "\n",
        "\n"
      ],
      "metadata": {
        "id": "twQL5NG1Hkiw"
      }
    },
    {
      "cell_type": "markdown",
      "source": [
        "## Machine learning\n"
      ],
      "metadata": {
        "id": "pm2YYPFvx7nu"
      }
    },
    {
      "cell_type": "markdown",
      "source": [
        "Quel est le type de problème que nous essayons de résoudre ici ?"
      ],
      "metadata": {
        "id": "cQhib3Pex-HY"
      }
    },
    {
      "cell_type": "markdown",
      "source": [
        "**Réponse :**"
      ],
      "metadata": {
        "id": "U6h27di1H3PB"
      }
    },
    {
      "cell_type": "markdown",
      "source": [
        "La plupart des modèles de machine learning ne supportent pas la classification multi-classe nativement. Certaines stratégies doivent être utilisées. Ces stratégies consistent à réaliser un classifieur binaire pour déterminer si une donnée appartient à une des classes, ou non. Dans notre cas, nous pourrions construire 10 classifieurs binaires qui viennent prédire si l'image utilisée correspond à un digit ou non. La plupart du temps ces stratégies sont directement implémentées dans les modèles de machine learning et dans leur algorithmes d'apprentissage.\n",
        "\n",
        "En utilisant la roadmap scikit-learn choisir le modèle de machine learning adapté et l'importer. Créer un classifieur en forçant la stratégie de décision pour la multi-classe en \"one versus one\" :\n",
        "`decision_function_shape='ovo'`"
      ],
      "metadata": {
        "id": "j6y5qPCTH6ue"
      }
    },
    {
      "cell_type": "code",
      "source": [],
      "metadata": {
        "id": "eC-vERh3PSsa"
      },
      "execution_count": null,
      "outputs": []
    },
    {
      "cell_type": "markdown",
      "source": [
        "L'entraîner sur nos données d'entraînement."
      ],
      "metadata": {
        "id": "H0HwdHdoQBAa"
      }
    },
    {
      "cell_type": "code",
      "source": [],
      "metadata": {
        "id": "1RgbadhMQHSt"
      },
      "execution_count": null,
      "outputs": []
    },
    {
      "cell_type": "markdown",
      "source": [
        "Combien de temps l'execution as prise ? Quelle stratégie pourrait-on mettre en place pour gagner du temps sur l'execution ?"
      ],
      "metadata": {
        "id": "vmJvhTFZil8h"
      }
    },
    {
      "cell_type": "markdown",
      "source": [
        "***Réponse :***"
      ],
      "metadata": {
        "id": "kX00gFIei7XU"
      }
    },
    {
      "cell_type": "code",
      "source": [],
      "metadata": {
        "id": "AygVR6kbqpNU"
      },
      "execution_count": null,
      "outputs": []
    },
    {
      "cell_type": "markdown",
      "source": [
        "L'évaluer sur nos données de test."
      ],
      "metadata": {
        "id": "HjCvKz5aQODw"
      }
    },
    {
      "cell_type": "code",
      "source": [],
      "metadata": {
        "id": "Obrf0QMnQNKA"
      },
      "execution_count": null,
      "outputs": []
    },
    {
      "cell_type": "code",
      "source": [],
      "metadata": {
        "id": "08qDTlkpuUln"
      },
      "execution_count": null,
      "outputs": []
    },
    {
      "cell_type": "markdown",
      "source": [
        "Bien que ce score soit excellent, il est intéressant de chercher s'il n'existe pas un autre modèle plus performant. Réaliser un grid search en applicant la stratégie imaginée pour gagner du temps sur l'apprentissage. Limitons tout de même les paramètres de grid search."
      ],
      "metadata": {
        "id": "CSEgsj7LEONb"
      }
    },
    {
      "cell_type": "markdown",
      "source": [
        "Créer d'abord le dataset dégradé et amputé."
      ],
      "metadata": {
        "id": "lSNMzx3hpSjW"
      }
    },
    {
      "cell_type": "code",
      "source": [],
      "metadata": {
        "id": "p_03R4k4kSEl"
      },
      "execution_count": null,
      "outputs": []
    },
    {
      "cell_type": "markdown",
      "source": [
        "L'utiliser dans le grid search."
      ],
      "metadata": {
        "id": "fblZYVDYph3E"
      }
    },
    {
      "cell_type": "code",
      "source": [],
      "metadata": {
        "id": "Yb3Jg9rdzlJL"
      },
      "execution_count": null,
      "outputs": []
    },
    {
      "cell_type": "markdown",
      "source": [
        "Une fois fait sur nos données dégradées, nous pourrions utiliser ces paramètres d'apprentissage sur les données non-dégradées. Ou alors, nous pourrions très bien utiliser ce modèle, en dégradant systèmatiquement les données d'entrées. Testons celà sur les X_test afin de voir si ça marcherait bien."
      ],
      "metadata": {
        "id": "HtvRTY9F-eJf"
      }
    },
    {
      "cell_type": "code",
      "source": [],
      "metadata": {
        "id": "0QwHVCaG-06I"
      },
      "execution_count": null,
      "outputs": []
    },
    {
      "cell_type": "markdown",
      "source": [
        "Il est possible qu'un réseau de neurone ne permette pas d'améliorer notre score. Essayons voir !\n",
        "\n"
      ],
      "metadata": {
        "id": "nwje9Hv_vxSP"
      }
    },
    {
      "cell_type": "markdown",
      "source": [
        "## Deep Learning\n",
        "\n",
        "Importer les librairies nécéssaires à la création et à l'entrainement des réseaux de neurones.\n"
      ],
      "metadata": {
        "id": "jhj1qe_AwQhC"
      }
    },
    {
      "cell_type": "code",
      "source": [],
      "metadata": {
        "id": "-jEe3BnrQsg0"
      },
      "execution_count": null,
      "outputs": []
    },
    {
      "cell_type": "markdown",
      "source": [
        "Maintenant nous pouvons créer un réseau de neurone. Avec tensorflow nous pouvons créer des couches puis les ajouter dans un modèle.\n",
        "\n",
        "Créer une ligne s'écrit avec `tf.keras.layers.Dense(**kwargs)`\n",
        "Si c'est une entrée elle s'écrit `tf.keras.Input(**kwargs)`\n",
        "\n",
        "Construire la couche d'entrée et la couche de sortie.\n",
        "\n"
      ],
      "metadata": {
        "id": "22d9SyDUw7WK"
      }
    },
    {
      "cell_type": "code",
      "source": [],
      "metadata": {
        "id": "P1smn23hw6SC"
      },
      "execution_count": null,
      "outputs": []
    },
    {
      "cell_type": "markdown",
      "source": [
        "Créer un modèle de Deep Learning avec la fonction `tf.keras.Sequential()`.\n",
        "\n",
        "On pourra choisir l'architecture du modèle que l'on souhaite. Il est néanmoins conseillé de ne pas mettre trop de neurone dans les couches intermédiaires (\\~10) ni trop de couches intermédiaires (\\~2).\n"
      ],
      "metadata": {
        "id": "T4vChKx9ypNM"
      }
    },
    {
      "cell_type": "markdown",
      "source": [
        "Il est possible qu'a ce stade vous ne savez pas trop choisir les fonctions d'activations pour les couches intermédiaires ni pour la couche de sortie. Si c'est le cas, privilégiez des fonctions sigmoid."
      ],
      "metadata": {
        "id": "OkvjNK0t1drC"
      }
    },
    {
      "cell_type": "markdown",
      "source": [],
      "metadata": {
        "id": "FPvUq2YWf4Et"
      }
    },
    {
      "cell_type": "code",
      "source": [],
      "metadata": {
        "id": "0LwuCZq8zOcT"
      },
      "execution_count": null,
      "outputs": []
    },
    {
      "cell_type": "markdown",
      "source": [
        "Quelle étape est nécéssaire avant l'entraînement ?"
      ],
      "metadata": {
        "id": "6_vJgjfn191t"
      }
    },
    {
      "cell_type": "code",
      "source": [],
      "metadata": {
        "id": "4RIpIKOb1csE"
      },
      "execution_count": null,
      "outputs": []
    },
    {
      "cell_type": "markdown",
      "source": [
        "Entraînons notre modèle sur les données d'entrainement. Pourquoi ça ne marche pas directement avec X_train et y_train ? Quel forme y_pred doit avoir ?"
      ],
      "metadata": {
        "id": "a2j10ltj2Vc4"
      }
    },
    {
      "cell_type": "markdown",
      "source": [
        "***Réponses :***"
      ],
      "metadata": {
        "id": "HaZZ7uQc3JWa"
      }
    },
    {
      "cell_type": "markdown",
      "source": [
        "Une bonne manière de construire ce vecteur est d'utiliser la fonction `get_dummies` de la librairie pandas. Cette méthode s'appelle le One-Hot encoding, on pourra alors créer une nouveau vecteur `y_train_hotcoded`."
      ],
      "metadata": {
        "id": "2LZxT8Ze9sSn"
      }
    },
    {
      "cell_type": "code",
      "source": [],
      "metadata": {
        "id": "q8U6E5bR2sbt"
      },
      "execution_count": null,
      "outputs": []
    },
    {
      "cell_type": "markdown",
      "source": [
        "Vérifier que le vecteur `X_train` et le vecteur `y_train_hotcoded` ont des dimensions compatibles avec le modèle de réseau de neurone construit."
      ],
      "metadata": {
        "id": "tm7BYW9L94ic"
      }
    },
    {
      "cell_type": "code",
      "source": [],
      "metadata": {
        "id": "RKpKXy-Z6pIZ"
      },
      "execution_count": null,
      "outputs": []
    },
    {
      "cell_type": "markdown",
      "source": [
        "Entrainer le modèle avec une seule époch, puis avec un nombre d'épochs plus important (~10)."
      ],
      "metadata": {
        "id": "zYe7UoKq-oxz"
      }
    },
    {
      "cell_type": "code",
      "source": [],
      "metadata": {
        "id": "mka61QlV2TC_"
      },
      "execution_count": null,
      "outputs": []
    },
    {
      "cell_type": "markdown",
      "source": [
        "Utiliser le modèle pour prédire les données depuis les données du set de test."
      ],
      "metadata": {
        "id": "3LiEJV83-xR9"
      }
    },
    {
      "cell_type": "code",
      "source": [],
      "metadata": {
        "id": "dh0hIUiF-3x6"
      },
      "execution_count": null,
      "outputs": []
    },
    {
      "cell_type": "markdown",
      "source": [
        "Comment interpréter ces données ?"
      ],
      "metadata": {
        "id": "7pIxGjDaBNDM"
      }
    },
    {
      "cell_type": "markdown",
      "source": [
        "***Réponse :***"
      ],
      "metadata": {
        "id": "x1dNWo3QC6H3"
      }
    },
    {
      "cell_type": "markdown",
      "source": [
        "Comment retrouver des valeures numériques de prédiction ? On pourra se baser sur le fonctionnement d'un réseau de neurone, et en particulier sur ce qu'il se passe lors de la forward propagation."
      ],
      "metadata": {
        "id": "vv4ktjq8C_0o"
      }
    },
    {
      "cell_type": "code",
      "source": [],
      "metadata": {
        "id": "8Tptbuv2BMrw"
      },
      "execution_count": null,
      "outputs": []
    },
    {
      "cell_type": "markdown",
      "source": [
        "Évaluez le modèle à partir de ses prédictions. **Vérifiez le type des valeurs comparées**\n"
      ],
      "metadata": {
        "id": "74RNU9vOBmbl"
      }
    },
    {
      "cell_type": "code",
      "source": [],
      "metadata": {
        "id": "vvlE1fpMDgs6"
      },
      "execution_count": null,
      "outputs": []
    },
    {
      "cell_type": "markdown",
      "source": [
        "Commentez ce résultat."
      ],
      "metadata": {
        "id": "94fnMT7oE40A"
      }
    },
    {
      "cell_type": "markdown",
      "source": [
        "***Réponse :***\n"
      ],
      "metadata": {
        "id": "TyWXslsbE7fX"
      }
    },
    {
      "cell_type": "markdown",
      "source": [
        "Réaliser un grid search en faisant varier l'architecture du réseau, et certains hyperparamètres. De la même manière que pour le machine learning, évitons de faire plus de 4 entraînements."
      ],
      "metadata": {
        "id": "DWkFFiczJfYn"
      }
    },
    {
      "cell_type": "code",
      "source": [],
      "metadata": {
        "id": "CtvwXILWJ3sl"
      },
      "execution_count": null,
      "outputs": []
    },
    {
      "cell_type": "markdown",
      "source": [
        "# Intégration dans une application web.\n",
        "\n",
        "1. Télécharger le .zip\n",
        "2. Lire le readme\n",
        "3. Tester l'application\n",
        "4. Explorer les fichiers de l'application Django."
      ],
      "metadata": {
        "id": "23tMVPLOFMkB"
      }
    },
    {
      "cell_type": "markdown",
      "source": [
        "Quel est le format de l'image récupérée ?"
      ],
      "metadata": {
        "id": "GDZML0WGFbbG"
      }
    },
    {
      "cell_type": "markdown",
      "source": [
        "***Réponse :***"
      ],
      "metadata": {
        "id": "42NKoDRcHQW4"
      }
    },
    {
      "cell_type": "markdown",
      "source": [
        "Dans le dossier joint, un exemple de la sortie du canva est fourni en csv. Importer ce cvs dans un dataframe."
      ],
      "metadata": {
        "id": "5_H0pZRaGD0j"
      }
    },
    {
      "cell_type": "code",
      "source": [],
      "metadata": {
        "id": "wD5EdglcHwZV"
      },
      "execution_count": null,
      "outputs": []
    },
    {
      "cell_type": "markdown",
      "source": [
        "À partir de la [documentation](https://developer.mozilla.org/fr/docs/Web/API/CanvasRenderingContext2D/getImageData) du canva, de la taille de l'image renseignée dans le code Django, reconstruire une matrice correspondant à l'image, et l'afficher."
      ],
      "metadata": {
        "id": "-4PNS5ZtJx41"
      }
    },
    {
      "cell_type": "code",
      "source": [],
      "metadata": {
        "id": "O4PyZ2qfH96v"
      },
      "execution_count": null,
      "outputs": []
    },
    {
      "cell_type": "markdown",
      "source": [
        "Sur quelle forme de donnée notre modèle précédent s'est entraîné ?"
      ],
      "metadata": {
        "id": "xJvNhKeFRS05"
      }
    },
    {
      "cell_type": "markdown",
      "source": [
        "***Réponse :***"
      ],
      "metadata": {
        "id": "5ZNdNfIBRbDY"
      }
    },
    {
      "cell_type": "markdown",
      "source": [
        "En utilisant une modification morphologique sur notre image récupéré par le Canva, recréer une image de (28,28). On pourra utiliser openCV, on conseil d'enregistrer l'image de (400,400). D'importer cette image, d'utiliser une dilatation ou une erosion, puis de la redimensionner."
      ],
      "metadata": {
        "id": "wmKdf3-URgcd"
      }
    },
    {
      "cell_type": "code",
      "source": [],
      "metadata": {
        "id": "Lf18IKxSSCLu"
      },
      "execution_count": null,
      "outputs": []
    },
    {
      "cell_type": "markdown",
      "source": [
        "Si vous pouvez lire le chiffre, votre modèle devrait le pouvoir aussi. Testez de faire lire ce chiffre à votre modèle de ML puis de DL."
      ],
      "metadata": {
        "id": "vCwJyWPMX9ev"
      }
    },
    {
      "cell_type": "code",
      "source": [],
      "metadata": {
        "id": "z5EHri3nYKXI"
      },
      "execution_count": null,
      "outputs": []
    },
    {
      "cell_type": "markdown",
      "source": [
        "Si votre modèle prédit correctement, vous pouvez exporter votre modèle. On pourra s'intéresser à regarder la différence entre l'export sous scikit learn ou sous tensorflow. Choisissez celui qui vous semble le plus pertinent, puis importez votre modèle dans l'application Django, et finalement testez votre modèle ;)"
      ],
      "metadata": {
        "id": "oTBA9OpXYbky"
      }
    }
  ]
}
